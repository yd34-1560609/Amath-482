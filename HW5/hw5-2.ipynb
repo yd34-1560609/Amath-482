{
 "cells": [
  {
   "cell_type": "code",
   "execution_count": 1,
   "metadata": {},
   "outputs": [],
   "source": [
    "import numpy as np\n",
    "import tensorflow as tf\n",
    "import matplotlib.pyplot as plt\n",
    "import pandas as pd\n",
    "from sklearn.metrics import confusion_matrix"
   ]
  },
  {
   "cell_type": "code",
   "execution_count": 2,
   "metadata": {},
   "outputs": [],
   "source": [
    "mnist = tf.keras.datasets.mnist\n",
    "(X_train_full, y_train_full), (X_test, y_test) = mnist.load_data()"
   ]
  },
  {
   "cell_type": "code",
   "execution_count": 3,
   "metadata": {},
   "outputs": [],
   "source": [
    "X_valid = X_train_full[:5000] / 255.0\n",
    "X_train = X_train_full[5000:] / 255.0\n",
    "X_test = X_test / 255.0\n",
    "\n",
    "y_valid = y_train_full[:5000]\n",
    "y_train = y_train_full[5000:]\n",
    "\n",
    "X_train = X_train[..., np.newaxis]\n",
    "X_valid = X_valid[..., np.newaxis]\n",
    "X_test = X_test[..., np.newaxis]"
   ]
  },
  {
   "cell_type": "code",
   "execution_count": 7,
   "metadata": {},
   "outputs": [],
   "source": [
    "from functools import partial\n",
    "\n",
    "my_dense_layer = partial(tf.keras.layers.Dense, activation=\"relu\", kernel_regularizer=tf.keras.regularizers.l2(0.0001))\n",
    "my_conv_layer = partial(tf.keras.layers.Conv2D, activation=\"tanh\", padding=\"valid\")\n",
    "\n",
    "model = tf.keras.models.Sequential([\n",
    "    my_conv_layer(6,5,padding=\"same\",input_shape=[28,28,1]),\n",
    "    tf.keras.layers.MaxPooling2D(2),\n",
    "    my_conv_layer(30,5),\n",
    "    tf.keras.layers.MaxPooling2D(2),\n",
    "    my_conv_layer(120,5),\n",
    "    tf.keras.layers.Flatten(),\n",
    "    my_dense_layer(84),\n",
    "    my_dense_layer(10, activation=\"softmax\")\n",
    "])"
   ]
  },
  {
   "cell_type": "code",
   "execution_count": 8,
   "metadata": {},
   "outputs": [],
   "source": [
    "model.compile(loss=\"sparse_categorical_crossentropy\",\n",
    "             optimizer=tf.keras.optimizers.Adam(learning_rate=0.001),\n",
    "             metrics=[\"accuracy\"])"
   ]
  },
  {
   "cell_type": "code",
   "execution_count": 9,
   "metadata": {},
   "outputs": [
    {
     "name": "stdout",
     "output_type": "stream",
     "text": [
      "Train on 55000 samples, validate on 5000 samples\n",
      "Epoch 1/5\n",
      "55000/55000 [==============================] - 12s 214us/sample - loss: 0.1730 - accuracy: 0.9513 - val_loss: 0.0669 - val_accuracy: 0.9846\n",
      "Epoch 2/5\n",
      "55000/55000 [==============================] - 11s 202us/sample - loss: 0.0669 - accuracy: 0.9831 - val_loss: 0.0565 - val_accuracy: 0.9862\n",
      "Epoch 3/5\n",
      "55000/55000 [==============================] - 11s 203us/sample - loss: 0.0496 - accuracy: 0.9876 - val_loss: 0.0621 - val_accuracy: 0.9862\n",
      "Epoch 4/5\n",
      "55000/55000 [==============================] - 11s 204us/sample - loss: 0.0402 - accuracy: 0.9911 - val_loss: 0.0538 - val_accuracy: 0.9876\n",
      "Epoch 5/5\n",
      "55000/55000 [==============================] - 11s 203us/sample - loss: 0.0341 - accuracy: 0.9924 - val_loss: 0.0547 - val_accuracy: 0.9878\n"
     ]
    }
   ],
   "source": [
    "history = model.fit(X_train, y_train, epochs=5, validation_data=(X_valid,y_valid))"
   ]
  },
  {
   "cell_type": "code",
   "execution_count": 10,
   "metadata": {},
   "outputs": [
    {
     "data": {
      "image/png": "[encoded data removed]",
      "text/plain": [
       "<Figure size 576x360 with 1 Axes>"
      ]
     },
     "metadata": {
      "needs_background": "light"
     },
     "output_type": "display_data"
    }
   ],
   "source": [
    "pd.DataFrame(history.history).plot(figsize=(8,5))\n",
    "plt.grid(True)\n",
    "plt.gca().set_ylim(0,1)\n",
    "plt.show()"
   ]
  },
  {
   "cell_type": "code",
   "execution_count": 11,
   "metadata": {},
   "outputs": [
    {
     "name": "stdout",
     "output_type": "stream",
     "text": [
      "[[5442    0    0    0    0    0    2    0    0    0]\n",
      " [   0 6169    1    0    1    1    0    6    1    0]\n",
      " [   2   16 5433    2    0    0    0   13    4    0]\n",
      " [   0    0    2 5627    0    1    0    1    5    2]\n",
      " [   0    4    0    0 5293    0    1    1    0    8]\n",
      " [   6    0    0   36    0 4940    1    0    3    1]\n",
      " [   8    4    1    1   10    6 5380    0    7    0]\n",
      " [   1    6    6    1    4    0    0 5692    0    5]\n",
      " [   4    3    2    3    0    1    0    5 5367    4]\n",
      " [   2    7    0   11   17    1    0    9    5 5402]]\n"
     ]
    }
   ],
   "source": [
    "y_pred = model.predict_classes(X_train)\n",
    "conf_train = confusion_matrix(y_train, y_pred)\n",
    "print(conf_train)"
   ]
  },
  {
   "cell_type": "code",
   "execution_count": 12,
   "metadata": {},
   "outputs": [
    {
     "name": "stdout",
     "output_type": "stream",
     "text": [
      "10000/10000 [==============================] - 1s 84us/sample - loss: 0.0518 - accuracy: 0.9865\n"
     ]
    },
    {
     "data": {
      "text/plain": [
       "[0.05179248241633177, 0.9865]"
      ]
     },
     "execution_count": 12,
     "metadata": {},
     "output_type": "execute_result"
    }
   ],
   "source": [
    "model.evaluate(X_test,y_test) "
   ]
  },
  {
   "cell_type": "code",
   "execution_count": 13,
   "metadata": {},
   "outputs": [
    {
     "name": "stdout",
     "output_type": "stream",
     "text": [
      "[[ 977    0    0    0    0    0    1    1    1    0]\n",
      " [   0 1130    0    2    0    1    1    1    0    0]\n",
      " [   3    4 1011    2    1    0    0    7    4    0]\n",
      " [   0    0    2 1007    0    1    0    0    0    0]\n",
      " [   0    0    0    0  978    0    1    0    0    3]\n",
      " [   2    0    0   18    0  869    1    1    1    0]\n",
      " [   7    2    1    1    5    4  934    0    4    0]\n",
      " [   2    4    4    1    1    0    0 1013    1    2]\n",
      " [   3    0    3    1    0    1    0    2  960    4]\n",
      " [   1    2    0    9    8    0    0    1    2  986]]\n"
     ]
    }
   ],
   "source": [
    "y_pred = model.predict_classes(X_test)\n",
    "conf_test = confusion_matrix(y_test, y_pred)\n",
    "print(conf_test)"
   ]
  },
  {
   "cell_type": "code",
   "execution_count": 14,
   "metadata": {},
   "outputs": [
    {
     "data": {
      "image/png": "[encoded data removed]",
      "text/plain": [
       "<Figure size 432x288 with 1 Axes>"
      ]
     },
     "metadata": {
      "needs_background": "light"
     },
     "output_type": "display_data"
    }
   ],
   "source": [
    "fig, ax = plt.subplots()\n",
    "\n",
    "# hide axes\n",
    "fig.patch.set_visible(False)\n",
    "ax.axis('off')\n",
    "ax.axis('tight')\n",
    "\n",
    "# create table and save to file\n",
    "df = pd.DataFrame(conf_test)\n",
    "ax.table(cellText=df.values, rowLabels=np.arange(10), colLabels=np.arange(10), loc='center', cellLoc='center')\n",
    "fig.tight_layout()\n",
    "plt.savefig('conf_mat_2.png')"
   ]
  },
  {
   "cell_type": "code",
   "execution_count": null,
   "metadata": {},
   "outputs": [],
   "source": []
  },
  {
   "cell_type": "code",
   "execution_count": null,
   "metadata": {},
   "outputs": [],
   "source": []
  }
 ],
 "metadata": {
  "kernelspec": {
   "display_name": "amath482",
   "language": "python",
   "name": "amath482"
  },
  "language_info": {
   "codemirror_mode": {
    "name": "ipython",
    "version": 3
   },
   "file_extension": ".py",
   "mimetype": "text/x-python",
   "name": "python",
   "nbconvert_exporter": "python",
   "pygments_lexer": "ipython3",
   "version": "3.7.6"
  }
 },
 "nbformat": 4,
 "nbformat_minor": 2
}
